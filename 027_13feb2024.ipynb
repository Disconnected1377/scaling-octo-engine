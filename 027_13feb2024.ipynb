{
 "cells": [
  {
   "cell_type": "markdown",
   "metadata": {},
   "source": [
    "Lists In Python\n",
    "list can store data of multiple datatypes"
   ]
  },
  {
   "cell_type": "code",
   "execution_count": 10,
   "metadata": {},
   "outputs": [
    {
     "name": "stdout",
     "output_type": "stream",
     "text": [
      "[1, 45, 67, 44, 6, 7, 8, 0, 2, 3]\n",
      "10\n",
      "[67, 44, 6, 7]\n",
      "[67, 7, 2]\n",
      "['A', 'b', 'Cc']\n",
      "45\n",
      "Cc\n",
      "<class 'list'>\n",
      "<class 'bool'>\n",
      "[0, 2, 3]\n",
      "[1, 45, 67, 44, 6, 7, 8]\n",
      "[3, 2, 0, 8, 7, 6, 44, 67, 45, 1]\n",
      "[1, 7]\n",
      "[3, 0, 7, 44, 45]\n",
      "[1, 45, 67, 44, 6, 7, 8, 0, 2, 3]\n"
     ]
    }
   ],
   "source": [
    "list=[1,45,67,44,6,7,8,0,2,3]\n",
    "print(list) #print the list\n",
    "print(len(list)) # print the length of list\n",
    "print(list[2:6]) # print the element 2 to 5 the element at index 6 is excluded\n",
    "print(list[2:9:3]) # print the element 2 to 9 with skipping 2 elements \n",
    "listc=[\"A\",\"b\",\"Cc\"]\n",
    "print(listc)\n",
    "print(list[1]) # print the 2nd element of list\n",
    "print(listc[2])\n",
    "list_mix=[20,\"aaah\",True]\n",
    "print(type(list)) # print the datatype of lists\n",
    "print(type(list_mix[2]))\n",
    "print(list[-3:]) #print the last 3 values of list\n",
    "print(list[:-3]) # print everything except last three elements\n",
    "print(list[::-1]) # reversing of list\n",
    "print(list[::5]) # printing the every 5th value\n",
    "print(list[::-2]) # print the value of reverse list by excuding every 2nd element\n",
    "new_list=list[:] # duplicating/ copying the list to new_list\n",
    "print(new_list)"
   ]
  },
  {
   "cell_type": "markdown",
   "metadata": {},
   "source": [
    "Nested List: list inside another list as an element of privious list"
   ]
  },
  {
   "cell_type": "code",
   "execution_count": 11,
   "metadata": {},
   "outputs": [
    {
     "name": "stdout",
     "output_type": "stream",
     "text": [
      "<class 'list'>\n",
      "<class 'list'>\n",
      "3\n",
      "4\n",
      "6\n"
     ]
    }
   ],
   "source": [
    "nest_list=[[1,2,3],[4,5,6],[7,8,9,0]]\n",
    "print(type(nest_list))\n",
    "print(type(nest_list[1]))\n",
    "print(len(nest_list))\n",
    "print(len(nest_list[2]))\n",
    "print(nest_list[1][2])"
   ]
  },
  {
   "cell_type": "markdown",
   "metadata": {},
   "source": [
    "Dividing list into two different lists"
   ]
  },
  {
   "cell_type": "code",
   "execution_count": 24,
   "metadata": {},
   "outputs": [
    {
     "name": "stdout",
     "output_type": "stream",
     "text": [
      "[12, 23, 34, 45, 6, 77, 78, 89, 0]\n",
      "[6, 77, 78, 89, 0]\n",
      "[12, 23, 34, 45]\n",
      "12\n",
      "23\n",
      "34\n",
      "45\n",
      "6\n",
      "77\n",
      "78\n",
      "89\n",
      "0\n",
      "[0, 89, 78, 77, 6, 45, 34, 23, 12]\n",
      "[0, 6, 12, 23, 34, 45, 77, 78, 89]\n",
      "0\n",
      "6\n",
      "12\n",
      "23\n",
      "34\n",
      "45\n",
      "77\n",
      "78\n",
      "89\n"
     ]
    }
   ],
   "source": [
    "list=[12,23,34,45,6,77,78,89,0]\n",
    "list_first=list[len(list)//2:]\n",
    "list_second=list[:len(list)//2]\n",
    "print(list)\n",
    "print(list_first)\n",
    "print(list_second)\n",
    "for i in range(len(list)):\n",
    "    print(list[i])\n",
    "list.reverse()\n",
    "print(f\"{list}\")\n",
    "list.sort()\n",
    "print(f\"{list}\")\n",
    "for i in list:\n",
    "    print(i)"
   ]
  },
  {
   "cell_type": "code",
   "execution_count": 26,
   "metadata": {},
   "outputs": [
    {
     "name": "stdout",
     "output_type": "stream",
     "text": [
      "1\n"
     ]
    }
   ],
   "source": [
    "list=[23,45,67,89,0o1,34,67]\n",
    "print(list[4])"
   ]
  }
 ],
 "metadata": {
  "kernelspec": {
   "display_name": "Python 3",
   "language": "python",
   "name": "python3"
  },
  "language_info": {
   "codemirror_mode": {
    "name": "ipython",
    "version": 3
   },
   "file_extension": ".py",
   "mimetype": "text/x-python",
   "name": "python",
   "nbconvert_exporter": "python",
   "pygments_lexer": "ipython3",
   "version": "3.11.7"
  }
 },
 "nbformat": 4,
 "nbformat_minor": 2
}
