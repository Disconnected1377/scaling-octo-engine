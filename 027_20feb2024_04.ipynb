{
 "cells": [
  {
   "cell_type": "markdown",
   "metadata": {},
   "source": [
    "Problem statement:You are developing a weather monitoring system. Implement the following:\n",
    "\n",
    "    Collect temperature data for different cities.\n",
    "    Store each city’s data as a tuple containing the city name and its average temperature.\n",
    "    Display the temperature data for all cities."
   ]
  },
  {
   "cell_type": "code",
   "execution_count": 27,
   "metadata": {},
   "outputs": [
    {
     "name": "stdout",
     "output_type": "stream",
     "text": [
      "{'ahmedabad': 20.0, 'delhi': 30.0, 'hisar': 25.0}\n",
      "<class 'dict'>\n"
     ]
    }
   ],
   "source": [
    "a={}\n",
    "while True:\n",
    "    key=input(\"enter key\")\n",
    "    if key.lower()=='end':\n",
    "        break\n",
    "    value=float(input(\"enter the temperature:\"))\n",
    "    a.update({key:value})\n",
    "print(a)\n",
    "print(type(a))"
   ]
  },
  {
   "cell_type": "markdown",
   "metadata": {},
   "source": [
    "Programe statement: You are building an e-commerce website, and you need to keep track of items in a user’s shopping cart. Implement the following:\n",
    "\n",
    "    Create an empty list called shopping_cart.\n",
    "    Allow the user to add items (product names) to the cart.\n",
    "    Display the current items in the cart.\n",
    "    Allow the user to remove items from the cart.\n",
    "    Calculate the total number of items in the cart."
   ]
  },
  {
   "cell_type": "code",
   "execution_count": 26,
   "metadata": {},
   "outputs": [
    {
     "name": "stdout",
     "output_type": "stream",
     "text": [
      "['a', 'v', 'b', 'c', 'd', 'e']\n",
      "6\n",
      "5\n",
      "e\n"
     ]
    }
   ],
   "source": [
    "shopping_cart=[]\n",
    "while True:\n",
    "    ele=input(\"enter the product name:\")\n",
    "    if ele.lower()=='end':\n",
    "        break\n",
    "    shopping_cart.append(ele)\n",
    "print(shopping_cart)\n",
    "l=len(shopping_cart)\n",
    "print(l)\n",
    "index=int (input(\"index element to be deleted\"))\n",
    "if l>=index:\n",
    "    shopping_cart.pop(index-1)\n",
    "    print(len(shopping_cart))\n",
    "    print(shopping_cart[-1])\n",
    "    #print(shopping_cart[len(shopping_cart)])\n",
    "else:\n",
    "    print(\"ondex out of range\")"
   ]
  },
  {
   "cell_type": "markdown",
   "metadata": {},
   "source": [
    "problem statement:  You are building a student management system. Implement the following:\n",
    "\n",
    "    Create a dictionary called student_records where each key is a student ID (e.g., roll number) and the value is a list containing the student’s name, age, and grade.\n",
    "    Allow the user to add new student records.\n",
    "    Display the details of a specific student given their ID."
   ]
  },
  {
   "cell_type": "code",
   "execution_count": 23,
   "metadata": {},
   "outputs": [
    {
     "name": "stdout",
     "output_type": "stream",
     "text": [
      "['nisha', 18, '7.03']\n"
     ]
    }
   ],
   "source": [
    "student_records={}\n",
    "while True:\n",
    "    id=input(\"enter the Student ID\")\n",
    "    if id.lower()=='end':\n",
    "        break\n",
    "    value=[]\n",
    "    name=input(\"enter the student name: \")\n",
    "    age=int (input(\"enter the age\"))\n",
    "    grade=input(\"enter the grade\")\n",
    "    value.append(name)\n",
    "    value.append(age)\n",
    "    value.append(grade)\n",
    "    student_records.update({id:value})\n",
    "inid=input(\"enter the id:\")\n",
    "print(student_records[inid])"
   ]
  }
 ],
 "metadata": {
  "kernelspec": {
   "display_name": "Python 3",
   "language": "python",
   "name": "python3"
  },
  "language_info": {
   "codemirror_mode": {
    "name": "ipython",
    "version": 3
   },
   "file_extension": ".py",
   "mimetype": "text/x-python",
   "name": "python",
   "nbconvert_exporter": "python",
   "pygments_lexer": "ipython3",
   "version": "3.11.8"
  }
 },
 "nbformat": 4,
 "nbformat_minor": 2
}
