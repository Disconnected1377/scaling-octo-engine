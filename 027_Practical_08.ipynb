{
  "nbformat": 4,
  "nbformat_minor": 0,
  "metadata": {
    "colab": {
      "provenance": []
    },
    "kernelspec": {
      "name": "python3",
      "display_name": "Python 3"
    },
    "language_info": {
      "name": "python"
    }
  },
  "cells": [
    {
      "cell_type": "markdown",
      "source": [
        "**Stock Price Variation Tracker**: Write a function track_price_variation   that takes a list of daily stock prices and returns a list of tuples.   Each tuple should contain the day number (starting from 0), the price for that day, and the difference in price from the previous day. For the   first day, the difference can be listed as None.  "
      ],
      "metadata": {
        "id": "lFP15fWRJPC0"
      }
    },
    {
      "cell_type": "code",
      "execution_count": null,
      "metadata": {
        "colab": {
          "base_uri": "https://localhost:8080/"
        },
        "id": "SlBmZJVSJIT5",
        "outputId": "99b723b7-84dc-447a-9848-d52fc88141d5"
      },
      "outputs": [
        {
          "output_type": "stream",
          "name": "stdout",
          "text": [
            "Enter Daily stocks prices: 1200 1300 1400 1500 1550\n",
            "[(1, 1200, 0), (2, 1300, -100), (3, 1400, -100), (4, 1500, -100), (5, 1550, -50)]\n"
          ]
        }
      ],
      "source": [
        "def track_price_variation(daily_stock):\n",
        "  result_list=[] # L=[(day_number,price,difference),(),()]\n",
        "  for i in range(1,len(daily_stock)+1):\n",
        "    my_list=[]\n",
        "    my_list.append(i)\n",
        "    my_list.append(daily_stock[i-1])\n",
        "    if i==1:\n",
        "      my_list.append(0)\n",
        "    else:\n",
        "      diff=daily_stock[i-2]-daily_stock[i-1]\n",
        "      my_list.append(diff)\n",
        "    result_list.append(my_list)\n",
        "\n",
        "  return result_list\n",
        "\n",
        "\n",
        "daily_stock_str=(input(\"Enter Daily stocks prices: \")).split(\" \")\n",
        "daily_stock=[]\n",
        "for i in daily_stock_str:\n",
        "  j=int(i)\n",
        "  daily_stock.append(j)\n",
        "\n",
        "r_list=track_price_variation(daily_stock)\n",
        "t_list=[]\n",
        "for ele in r_list:\n",
        "  t_list.append(tuple(ele))\n",
        "\n",
        "print(t_list)"
      ]
    },
    {
      "cell_type": "markdown",
      "source": [
        "**Todo List Manager**: Create a function manage_todo that takes a list of   to-do items and a command (‘add’, ‘remove’, ‘complete’) and modifies the   list based on the command.  "
      ],
      "metadata": {
        "id": "IBRajwN4TzkC"
      }
    },
    {
      "cell_type": "code",
      "source": [
        "def manage_todo(todo_list, command, item):\n",
        "\n",
        "  if command == \"add\":\n",
        "    todo_list.append(item)\n",
        "    print(f\"Added '{item}' to the to-do list.\")\n",
        "  elif command == \"remove\":\n",
        "    if item in todo_list:\n",
        "      todo_list.remove(item)\n",
        "      print(f\"Removed '{item}' from the to-do list.\")\n",
        "    else:\n",
        "      print(f\"Item '{item}' not found in the to-do list.\")\n",
        "  elif command == \"complete\":\n",
        "    if item in todo_list:\n",
        "      todo_list.remove(item)\n",
        "      print(f\"Marked '{item}' as completed.\")\n",
        "    else:\n",
        "      print(f\"Item '{item}' not found in the to-do list.\")\n",
        "  else:\n",
        "    print(\"Invalid command. Please use 'add', 'remove', or 'complete'.\")\n",
        "\n",
        "  return todo_list\n",
        "\n",
        "\n",
        "todo_list = []\n",
        "\n",
        "while True:\n",
        "  command = input(\"Enter command (add, remove, complete, or quit): \")\n",
        "  if command.lower() == \"quit\":\n",
        "    break\n",
        "\n",
        "  item = input(\"Enter to-do item: \")\n",
        "  todo_list = manage_todo(todo_list, command.lower(), item)\n",
        "\n",
        "print(\"Final To-Do List:\")\n",
        "for item in todo_list:\n",
        "  print(item)\n"
      ],
      "metadata": {
        "colab": {
          "base_uri": "https://localhost:8080/"
        },
        "id": "Ylx_L42dUAuo",
        "outputId": "7853a0d0-a2de-4e31-d8c4-b9699b816900"
      },
      "execution_count": 39,
      "outputs": [
        {
          "output_type": "stream",
          "name": "stdout",
          "text": [
            "Enter command (add, remove, complete, or quit): add\n",
            "Enter to-do item: watch anime\n",
            "Added 'watch anime' to the to-do list.\n",
            "Enter command (add, remove, complete, or quit): add\n",
            "Enter to-do item: sleep\n",
            "Added 'sleep' to the to-do list.\n",
            "Enter command (add, remove, complete, or quit): add\n",
            "Enter to-do item: eat\n",
            "Added 'eat' to the to-do list.\n",
            "Enter command (add, remove, complete, or quit): complete\n",
            "Enter to-do item: anime\n",
            "Item 'anime' not found in the to-do list.\n",
            "Enter command (add, remove, complete, or quit): remove\n",
            "Enter to-do item: sleep\n",
            "Removed 'sleep' from the to-do list.\n",
            "Enter command (add, remove, complete, or quit): quit\n",
            "Final To-Do List:\n",
            "watch anime\n",
            "eat\n"
          ]
        }
      ]
    },
    {
      "cell_type": "markdown",
      "source": [
        "**Book Collection Sorter**: Write a function sort_books that takes a list   of book titles and sorts them by the length of the title, with the    shortest title first.   "
      ],
      "metadata": {
        "id": "1BRL9ipcdGMx"
      }
    },
    {
      "cell_type": "code",
      "source": [
        "def sort_books(title_book):\n",
        "  d={}\n",
        "  l=[]\n",
        "  for i in title_book:\n",
        "    d.update({len(i):i})\n",
        "    l.append(len(i))\n",
        "  result=[]\n",
        "  l.sort()\n",
        "  for i in l:\n",
        "    for j in d:\n",
        "      if j==i:\n",
        "        result.append(d[j])\n",
        "\n",
        "  print(\"sorted book titles: \",result)\n",
        "\n",
        "title_book=[\"Findamental of electornic\",\"Rootkits and bootkits\",\"Introduction to cryptography\",\"Guide to software developments\",\"atomic\"]\n",
        "print(\"unsorted book titles: \",title_book)\n",
        "sort_books(title_book)"
      ],
      "metadata": {
        "id": "dnACEHV8dNnG",
        "colab": {
          "base_uri": "https://localhost:8080/"
        },
        "outputId": "1316d7d8-6f46-4254-8bc8-29a297852a3d"
      },
      "execution_count": 7,
      "outputs": [
        {
          "output_type": "stream",
          "name": "stdout",
          "text": [
            "unsorted book titles:  ['Findamental of electornic', 'Rootkits and bootkits', 'Introduction to cryptography', 'Guide to software developments', 'atomic']\n",
            "sorted book titles:  ['atomic', 'Rootkits and bootkits', 'Findamental of electornic', 'Introduction to cryptography', 'Guide to software developments']\n"
          ]
        }
      ]
    },
    {
      "cell_type": "markdown",
      "source": [
        "**Duplicate Finder**: Implement a function find_duplicates that takes a list of numbers and returns a list of all numbers that appear more than once."
      ],
      "metadata": {
        "id": "kk6kKMEH24E7"
      }
    },
    {
      "cell_type": "code",
      "source": [
        "def find_duplicates(l):\n",
        "  d={}\n",
        "  for i in l:\n",
        "    if i in d:\n",
        "      d[i]+=1\n",
        "    else:\n",
        "      d[i]=1\n",
        "  returned_list=[]\n",
        "  for i in d:\n",
        "    if d[i]>1:\n",
        "      returned_list.append(i)\n",
        "\n",
        "  return returned_list\n",
        "\n",
        "l=[1,1,1,2,2,4,4,6,5,4,5,3,4,6,7,8,9,2,3,4,5,6,7,5,8,9]\n",
        "print(\"list of numbers that appear more than once: \",find_duplicates(l))\n"
      ],
      "metadata": {
        "colab": {
          "base_uri": "https://localhost:8080/"
        },
        "id": "WfgkUoiw3LpG",
        "outputId": "b05d567f-9e54-49ce-d998-9e2f06f1fa93"
      },
      "execution_count": 16,
      "outputs": [
        {
          "output_type": "stream",
          "name": "stdout",
          "text": [
            "list of numbers that appear more than once:  [1, 2, 4, 6, 5, 3, 7, 8, 9]\n"
          ]
        }
      ]
    },
    {
      "cell_type": "markdown",
      "source": [
        "**Data Normalizer**: Write a function normalize_data that takes a list of numbers and normalizes them so that the numbers range from 0 to 1 (inclusive)."
      ],
      "metadata": {
        "id": "iKc6sZcL_3IC"
      }
    },
    {
      "cell_type": "code",
      "source": [
        "def min_max_normalization(data):\n",
        "  min_value = min(data)\n",
        "  max_value = max(data)\n",
        "  if min_value == max_value:\n",
        "    return data\n",
        "  return [(x - min_value) / (max_value - min_value) for x in data]\n",
        "\n",
        "\n",
        "data = [1,5,2,0,5,7]\n",
        "normalized_data = min_max_normalization(data)\n",
        "print(normalized_data)\n",
        "\n",
        "\n"
      ],
      "metadata": {
        "colab": {
          "base_uri": "https://localhost:8080/"
        },
        "id": "xjyUSuPi_8x8",
        "outputId": "d167fda8-b17b-4be9-d762-f99799954cb4"
      },
      "execution_count": 19,
      "outputs": [
        {
          "output_type": "stream",
          "name": "stdout",
          "text": [
            "[0.14285714285714285, 0.7142857142857143, 0.2857142857142857, 0.0, 0.7142857142857143, 1.0]\n"
          ]
        }
      ]
    },
    {
      "cell_type": "markdown",
      "source": [
        "**Reversing a Sentence**: You’re building a text editor application, and one of the features you want to implement is sentence reversal.\n",
        "    Task: Write a Python program that takes a sentence as input and returns the reversed sentence."
      ],
      "metadata": {
        "id": "97h_cUxbBNrW"
      }
    },
    {
      "cell_type": "code",
      "source": [
        "sentence=str(input(\"Enter the string:  \\n\"))\n",
        "word_list=sentence.split(\" \")\n",
        "l=len(word_list)\n",
        "reverse=[]\n",
        "yum=\"\"\n",
        "for i in range(l-1,-1,-1):\n",
        "  reverse.append(word_list[i])\n",
        "\n",
        "for i in reverse:\n",
        "  yum=yum+i+\" \"\n",
        "\n",
        "\n",
        "print(yum)"
      ],
      "metadata": {
        "colab": {
          "base_uri": "https://localhost:8080/"
        },
        "id": "_-d-WI0bBTqY",
        "outputId": "c17e421b-fae9-4159-dc28-afcd5919b4bd"
      },
      "execution_count": 36,
      "outputs": [
        {
          "output_type": "stream",
          "name": "stdout",
          "text": [
            "Enter the string:  \n",
            "fun is anime\n",
            "anime is fun \n"
          ]
        }
      ]
    }
  ]
}