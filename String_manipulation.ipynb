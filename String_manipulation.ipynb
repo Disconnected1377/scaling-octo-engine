{
 "cells": [
  {
   "cell_type": "markdown",
   "metadata": {},
   "source": [
    "Problem Ststement: counting vowels and consonants \n",
    "Scenario: You're working on a language-learning app, and want to help users practice pronunciaation.\n",
    "You need to analyze the text they input to count the number of vowels and consonents.   \n",
    "Task: Write a Python program that takes a sentence as input and prints the counts of vowels and consonents."
   ]
  },
  {
   "cell_type": "code",
   "execution_count": 5,
   "metadata": {},
   "outputs": [
    {
     "name": "stdout",
     "output_type": "stream",
     "text": [
      "consonents:  16\n",
      "vowels:  12\n"
     ]
    }
   ],
   "source": [
    "sentence=str(input(\"Enter the sentence: \"))\n",
    "\n",
    "def count_vowel(sentence):\n",
    "    vowels=['a','e','i','o','u']\n",
    "    count_vowels=0\n",
    "    for i in range(len(sentence)):\n",
    "        for j in vowels:\n",
    "            if sentence[i].lower()==j:\n",
    "                count_vowels=count_vowels+1\n",
    "            else:\n",
    "                continue\n",
    "    return count_vowels\n",
    "\n",
    "def count_consonents(sentence):\n",
    "    consonents=\"bcdfghjklmnpqrstvwxyz\"\n",
    "    count_consonent=0\n",
    "    for i in range(len(sentence)):\n",
    "        for j in consonents:\n",
    "            if sentence[i].lower()==j:\n",
    "                count_consonent=count_consonent+1\n",
    "            else:\n",
    "                continue\n",
    "    return count_consonent\n",
    "\n",
    "print(\"consonents: \",count_consonents(sentence))\n",
    "print(\"vowels: \",count_vowel(sentence))"
   ]
  },
  {
   "cell_type": "markdown",
   "metadata": {},
   "source": [
    "Problem Statement: Extrecting Usernames    \n",
    "Scenario: Imagine you're building a user registration system for a social media plateform.   \n",
    "User enters their full names during registration, but you need to extrect their usernames from these names.     \n",
    "Task: Write a Python programe that takes a full name as input and returns the corresponding usernames.     \n",
    "The username should be the first letter of the user's first name followed by their entire last name (all lowercase) \n",
    "Example:   \n",
    "    --input: John Doe  \n",
    "    --output: jdoe"
   ]
  },
  {
   "cell_type": "code",
   "execution_count": 18,
   "metadata": {},
   "outputs": [
    {
     "name": "stdout",
     "output_type": "stream",
     "text": [
      "['bandaru', 'chandana', 'sidhi']\n",
      "username is:  bchandanasidhi\n"
     ]
    }
   ],
   "source": [
    "user_input=str(input(\"Enter the Name: \")).split(\" \")\n",
    "print(user_input)\n",
    "username=\"\"\n",
    "for i in range(len(user_input)):\n",
    "    for j in range(len(user_input[i])):\n",
    "        if i==0:\n",
    "            if j==0:\n",
    "                username=username+user_input[0][0]\n",
    "            else:\n",
    "                continue\n",
    "        else:\n",
    "            username=username+user_input[i][j]\n",
    "\n",
    "\n",
    "print(\"username is: \",username.lower())"
   ]
  }
 ],
 "metadata": {
  "kernelspec": {
   "display_name": "Python 3",
   "language": "python",
   "name": "python3"
  },
  "language_info": {
   "codemirror_mode": {
    "name": "ipython",
    "version": 3
   },
   "file_extension": ".py",
   "mimetype": "text/x-python",
   "name": "python",
   "nbconvert_exporter": "python",
   "pygments_lexer": "ipython3",
   "version": "3.11.8"
  }
 },
 "nbformat": 4,
 "nbformat_minor": 2
}
