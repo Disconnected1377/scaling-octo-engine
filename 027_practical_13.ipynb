{
 "cells": [
  {
   "cell_type": "markdown",
   "metadata": {},
   "source": [
    "Suppose we have a text file named config.txt attached.\n",
    "write a Python code to convert this configuration into a Python dictionary."
   ]
  },
  {
   "cell_type": "code",
   "execution_count": 37,
   "metadata": {},
   "outputs": [
    {
     "name": "stdout",
     "output_type": "stream",
     "text": [
      "python dictionary:  {'username': 'john_doe', 'password': 'password123', 'database': 'example_db', 'host': 'localhost', 'port': '5432'}\n"
     ]
    }
   ],
   "source": [
    "def read_text_file(file_path):\n",
    "    d={}\n",
    "    with open(file_path,'r') as f:\n",
    "        line=f.readline()[1:] # skip the first line\n",
    "        for line in f:\n",
    "            key,value=line.strip().split(\"=\")\n",
    "            d[key]=value\n",
    "\n",
    "    return d\n",
    "\n",
    "dictionary=read_text_file('config.txt')\n",
    "print(\"python dictionary: \",dictionary)"
   ]
  },
  {
   "cell_type": "markdown",
   "metadata": {},
   "source": [
    "Write a Python code to convert a dictionary containing configuration data that we want to write to a text file. \n",
    "# Example usage: \n",
    "new_config = {\n",
    "\"username\": \"new_user\",\n",
    "\"password\": \"new_password\",\n",
    "\"database\": \"new_db\",\n",
    "\"host\": \"localhost\",\n",
    "\"port\": \"5432\"}\n"
   ]
  },
  {
   "cell_type": "code",
   "execution_count": 41,
   "metadata": {},
   "outputs": [
    {
     "name": "stdout",
     "output_type": "stream",
     "text": [
      "new configuration file:\n",
      " username=new_user\n",
      "password=new_password\n",
      "database=new_db\n",
      "host=localhost\n",
      "port=5432\n",
      "\n"
     ]
    }
   ],
   "source": [
    "def write_txt_file(file_path,d):\n",
    "    file=open(file_path,'w')\n",
    "    for key in d:\n",
    "        line=key+ \"=\"+ d[key]+\"\\n\"\n",
    "        file.write(line)\n",
    "\n",
    "def read_text_file(file_path):\n",
    "    with open(file_path,'r') as f:\n",
    "        content=f.read()\n",
    "    \n",
    "    return content\n",
    "\n",
    "new_config=new_config = {\"username\": \"new_user\",\"password\": \"new_password\",\"database\": \"new_db\",\"host\": \"localhost\",\"port\": \"5432\"}\n",
    "write_txt_file('config.txt',new_config)\n",
    "file_content=read_text_file('config.txt')\n",
    "print(\"new configuration file:\\n\",file_content)"
   ]
  },
  {
   "cell_type": "markdown",
   "metadata": {},
   "source": [
    "Write a Python code to update a specific configuration parameter in an existing text file. You can achieve this by reading the existing configuration, updating the desired parameter, and then writing the updated configuration back to the file.\n",
    "# Example usage:\n",
    "update_config_parameter('config.txt', 'password', 'new_password123')"
   ]
  },
  {
   "cell_type": "code",
   "execution_count": 44,
   "metadata": {},
   "outputs": [
    {
     "name": "stdout",
     "output_type": "stream",
     "text": [
      "updated config file content:\n",
      " username=new_user\n",
      "password=new_password123\n",
      "database=new_db\n",
      "host=localhost\n",
      "port=5432\n",
      "\n"
     ]
    }
   ],
   "source": [
    "def update_config_parameter(filename, parameter, new_value):\n",
    "  \n",
    "  updated_data = []\n",
    "  with open(filename, \"r\") as file:\n",
    "    for line in file:\n",
    "      key, value = line.strip().split(\"=\", 1)  \n",
    "      if key == parameter:\n",
    "        updated_data.append(f\"{key}={new_value}\\n\")  \n",
    "      else:\n",
    "        updated_data.append(line)  \n",
    "  with open(filename, \"w\") as file:\n",
    "    file.writelines(updated_data)\n",
    "\n",
    "def read_text_file(file_path):\n",
    "    with open(file_path,'r') as f:\n",
    "        content=f.read()\n",
    "    \n",
    "    return content\n",
    "\n",
    "update_config_parameter('config.txt', 'password', 'new_password123')\n",
    "file_content=read_text_file('config.txt')\n",
    "print(\"updated config file content:\\n\",file_content)\n"
   ]
  },
  {
   "cell_type": "markdown",
   "metadata": {},
   "source": [
    "Suppose you have multiple configuration files, and \n",
    "\n",
    "Write a Python code to merge them into a single configuration. You can achieve this by reading all the files, merging their configurations, and then writing the merged configuration to a new file.\n"
   ]
  },
  {
   "cell_type": "code",
   "execution_count": 30,
   "metadata": {},
   "outputs": [
    {
     "ename": "AttributeError",
     "evalue": "'_io.TextIOWrapper' object has no attribute 'append'",
     "output_type": "error",
     "traceback": [
      "\u001b[0;31m---------------------------------------------------------------------------\u001b[0m",
      "\u001b[0;31mAttributeError\u001b[0m                            Traceback (most recent call last)",
      "Cell \u001b[0;32mIn[30], line 20\u001b[0m\n\u001b[1;32m     16\u001b[0m         content\u001b[38;5;241m=\u001b[39mf\u001b[38;5;241m.\u001b[39mread()\n\u001b[1;32m     18\u001b[0m     \u001b[38;5;28;01mreturn\u001b[39;00m content\n\u001b[0;32m---> 20\u001b[0m \u001b[43mmerge_config_txt\u001b[49m\u001b[43m(\u001b[49m\u001b[38;5;124;43m'\u001b[39;49m\u001b[38;5;124;43mdata.txt\u001b[39;49m\u001b[38;5;124;43m'\u001b[39;49m\u001b[43m,\u001b[49m\u001b[38;5;124;43m'\u001b[39;49m\u001b[38;5;124;43mconfig.txt\u001b[39;49m\u001b[38;5;124;43m'\u001b[39;49m\u001b[43m)\u001b[49m\n\u001b[1;32m     21\u001b[0m file_content\u001b[38;5;241m=\u001b[39mread_text_file(\u001b[38;5;124m'\u001b[39m\u001b[38;5;124mmerge_config.txt\u001b[39m\u001b[38;5;124m'\u001b[39m)\n\u001b[1;32m     22\u001b[0m \u001b[38;5;28mprint\u001b[39m(\u001b[38;5;124m\"\u001b[39m\u001b[38;5;124mthe mergerd configuration: \u001b[39m\u001b[38;5;124m\"\u001b[39m,file_content)\n",
      "Cell \u001b[0;32mIn[30], line 8\u001b[0m, in \u001b[0;36mmerge_config_txt\u001b[0;34m(*args)\u001b[0m\n\u001b[1;32m      6\u001b[0m             \u001b[38;5;28;01mwith\u001b[39;00m \u001b[38;5;28mopen\u001b[39m(a,\u001b[38;5;124m'\u001b[39m\u001b[38;5;124mr\u001b[39m\u001b[38;5;124m'\u001b[39m) \u001b[38;5;28;01mas\u001b[39;00m f:\n\u001b[1;32m      7\u001b[0m                 content\u001b[38;5;241m=\u001b[39mf\u001b[38;5;241m.\u001b[39mread()\n\u001b[0;32m----> 8\u001b[0m                 \u001b[43mfile\u001b[49m\u001b[38;5;241;43m.\u001b[39;49m\u001b[43mappend\u001b[49m(content)\n\u001b[1;32m      9\u001b[0m     \u001b[38;5;28;01mpass\u001b[39;00m\n\u001b[1;32m     10\u001b[0m \u001b[38;5;28;01mexcept\u001b[39;00m \u001b[38;5;167;01mFileExistsError\u001b[39;00m:\n",
      "\u001b[0;31mAttributeError\u001b[0m: '_io.TextIOWrapper' object has no attribute 'append'"
     ]
    }
   ],
   "source": [
    "def merge_config_txt(*args):\n",
    "    file=f\"{'merge_config'}.{'txt'}\"\n",
    "    try:\n",
    "        with open(file,'x') as file:\n",
    "            for a in args:\n",
    "                with open(a,'r') as f:\n",
    "                    content=f.read()\n",
    "                    file.append(content)\n",
    "        pass\n",
    "    except FileExistsError:\n",
    "        print(\"merged file is already exists \")\n",
    "    \n",
    "\n",
    "def read_text_file(file_path):\n",
    "    with open(file_path,'r') as f:\n",
    "        content=f.read()\n",
    "    \n",
    "    return content\n",
    "\n",
    "merge_config_txt('data.txt','config.txt')\n",
    "file_content=read_text_file('merge_config.txt')\n",
    "print(\"the mergerd configuration: \",file_content)\n",
    "\n",
    "\n",
    "\n"
   ]
  },
  {
   "cell_type": "code",
   "execution_count": 31,
   "metadata": {},
   "outputs": [
    {
     "name": "stdout",
     "output_type": "stream",
     "text": [
      "merged file is already exists \n",
      "the mergerd configuration:  \n"
     ]
    }
   ],
   "source": [
    "def merge_config_txt(*args):\n",
    "    file=f\"{'merge_config'}.{'txt'}\"\n",
    "    try:\n",
    "        with open(file,'x') as file:\n",
    "            for a in args:\n",
    "                with open(a,'r') as f:\n",
    "                    content=f.read()\n",
    "                    file.write(content)\n",
    "        pass\n",
    "    except FileExistsError:\n",
    "        print(\"merged file is already exists \")\n",
    "    \n",
    "\n",
    "def read_text_file(file_path):\n",
    "    with open(file_path,'r') as f:\n",
    "        content=f.read()\n",
    "    \n",
    "    return content\n",
    "\n",
    "merge_config_txt('data.txt','config.txt')\n",
    "file_content=read_text_file('merge_config.txt')\n",
    "print(\"the mergerd configuration: \",file_content)\n",
    "\n",
    "\n"
   ]
  },
  {
   "cell_type": "code",
   "execution_count": 32,
   "metadata": {},
   "outputs": [
    {
     "name": "stdout",
     "output_type": "stream",
     "text": [
      "the mergerd configuration:  hello world.\n",
      "this is a sample text file.\n",
      "we are learning file operation in python.\n",
      "\n",
      "kiwi\n",
      "grape\n",
      "melon\n",
      "username=new_user\n",
      "password=new_password\n",
      "database=new_db\n",
      "host=localhost\n",
      "port=5432\n",
      "\n"
     ]
    }
   ],
   "source": [
    "def merge_config_txt(*args):\n",
    "    file=f\"{'merge_config'}.{'txt'}\"\n",
    "    try:\n",
    "        with open(file,'x') as file:\n",
    "            for a in args:\n",
    "                with open(a,'r') as f:\n",
    "                    content=f.read()\n",
    "                    file.write(content)\n",
    "        pass\n",
    "    except FileExistsError:\n",
    "        print(\"merged file is already exists \")\n",
    "    \n",
    "\n",
    "def read_text_file(file_path):\n",
    "    with open(file_path,'r') as f:\n",
    "        content=f.read()\n",
    "    \n",
    "    return content\n",
    "\n",
    "merge_config_txt('data.txt','config.txt')\n",
    "file_content=read_text_file('merge_config.txt')\n",
    "print(\"the mergerd configuration: \",file_content)"
   ]
  },
  {
   "cell_type": "markdown",
   "metadata": {},
   "source": [
    "Write a Python code to delete a specific configuration parameter from a text file. You can achieve this by reading the existing configuration, removing the desired parameter, and then writing the updated configuration back to the file.\n",
    "# Example usage: \n",
    "delete_config_parameter('config.txt', 'port')"
   ]
  },
  {
   "cell_type": "code",
   "execution_count": 46,
   "metadata": {},
   "outputs": [
    {
     "name": "stdout",
     "output_type": "stream",
     "text": [
      "content of config file after delete:\n",
      " username=new_user\n",
      "password=new_password123\n",
      "database=new_db\n",
      "host=localhost\n",
      "\n"
     ]
    }
   ],
   "source": [
    "def delete_config_parameter(file_name,parameter):\n",
    "    d={}\n",
    "    with open(file_name,'r') as f:\n",
    "        \n",
    "        for line in f:\n",
    "            key,value=line.strip().split(\"=\")\n",
    "            d[key]=value\n",
    "        \n",
    "    with open(file_name,'w') as file:\n",
    "        for k in d:\n",
    "            if k==parameter:\n",
    "                continue\n",
    "            else:\n",
    "                line=k+\"=\"+d[k]+\"\\n\"\n",
    "                file.write(line)\n",
    "\n",
    "def read_text_file(file_path):\n",
    "    with open(file_path,'r') as f:\n",
    "        content=f.read()\n",
    "    \n",
    "    return content\n",
    "\n",
    "delete_config_parameter('config.txt','port')\n",
    "file_content=read_text_file('config.txt')\n",
    "print(\"content of config file after delete:\\n\",file_content)\n",
    "\n"
   ]
  }
 ],
 "metadata": {
  "kernelspec": {
   "display_name": "Python 3",
   "language": "python",
   "name": "python3"
  },
  "language_info": {
   "codemirror_mode": {
    "name": "ipython",
    "version": 3
   },
   "file_extension": ".py",
   "mimetype": "text/x-python",
   "name": "python",
   "nbconvert_exporter": "python",
   "pygments_lexer": "ipython3",
   "version": "3.11.8"
  }
 },
 "nbformat": 4,
 "nbformat_minor": 2
}
