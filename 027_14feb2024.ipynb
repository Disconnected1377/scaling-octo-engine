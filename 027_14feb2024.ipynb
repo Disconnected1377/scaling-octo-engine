{
 "cells": [
  {
   "cell_type": "markdown",
   "metadata": {},
   "source": [
    "Tupples in Python"
   ]
  },
  {
   "cell_type": "code",
   "execution_count": 3,
   "metadata": {},
   "outputs": [
    {
     "name": "stdout",
     "output_type": "stream",
     "text": [
      "(1, 2, 'A', 'B', 'C', False)\n",
      "2\n",
      "False\n",
      "(False, 'C', 'B', 'A', 2, 1)\n",
      "1\n",
      "2\n",
      "A\n",
      "B\n",
      "C\n",
      "False\n",
      "6\n"
     ]
    }
   ],
   "source": [
    "tupp=(1,2,'A','B','C',False)\n",
    "print(tupp) #print the tupple as it is\n",
    "print(tupp[1]) #print the 2nd element of tupple\n",
    "print(tupp[-1]) #print the last elememt of tupple\n",
    "print(tupp[::-1]) # print the tuple element in reverse order\n",
    "for i in tupp:\n",
    "    print(i)\n",
    "print(len(tupp))"
   ]
  },
  {
   "cell_type": "markdown",
   "metadata": {},
   "source": [
    "Slicing of tupple   [1]sort() and reverse() functions can't be applied on tupple. It is immutable, can't be changed."
   ]
  },
  {
   "cell_type": "code",
   "execution_count": 3,
   "metadata": {},
   "outputs": [
    {
     "name": "stdout",
     "output_type": "stream",
     "text": [
      "('A', 'B', 'C', 'D', 1, 3, 4, 5, 6, 7, 8)\n",
      "11\n",
      "<class 'tuple'>\n"
     ]
    }
   ],
   "source": [
    "tupp_1=('A','B','C','D')\n",
    "tupp_2=(1,3,4,5,6,7,8)\n",
    "tupp=tupp_1+tupp_2\n",
    "print(tupp)\n",
    "print(len(tupp))\n",
    "print(type(tupp))"
   ]
  },
  {
   "cell_type": "markdown",
   "metadata": {},
   "source": [
    "Set = use {} curly braces of creating the set. Its UnOrdered data set.The set is mutable, you can change the values unlike of tupple and you can't store two or more same/identical element in set. You can't use Indexing in set."
   ]
  },
  {
   "cell_type": "code",
   "execution_count": 17,
   "metadata": {},
   "outputs": [
    {
     "name": "stdout",
     "output_type": "stream",
     "text": [
      "{'nothing', 'Checked', 'Its Feburary', 'Bakwas'}\n",
      "{'X'}\n",
      "{'X', 'The element to be added'}\n",
      "{'Checked', 'Its Feburary', 'Bakwas'}\n",
      "3\n",
      "False\n"
     ]
    }
   ],
   "source": [
    "set_11={\"nothing\",\"Bakwas\",\"Its Feburary\",\"Checked\"}\n",
    "print(set_11)\n",
    "set_112={\"X\",\"X\"}\n",
    "print(set_112)\n",
    "set_112.add(\"The element to be added\") # add the provided element at anywhare in the set.\n",
    "print(set_112)\n",
    "set_11.remove(\"nothing\") # remove the element \n",
    "print(set_11)\n",
    "print(len(set_11))\n",
    "print(2 in set_11) #checked weather the element is present in set or not."
   ]
  },
  {
   "cell_type": "markdown",
   "metadata": {},
   "source": [
    "the frozen set is immutable, that is not chanageble"
   ]
  },
  {
   "cell_type": "code",
   "execution_count": 21,
   "metadata": {},
   "outputs": [
    {
     "name": "stdout",
     "output_type": "stream",
     "text": [
      "<class 'frozenset'>\n",
      "frozenset({56, 45, 77, 23})\n"
     ]
    }
   ],
   "source": [
    "set_11=frozenset({23,45,56,77,23})\n",
    "print(type(set_11))\n",
    "print(set_11)\n",
    "# set_11.remove(23)\n",
    "# set_11.add(44)"
   ]
  },
  {
   "cell_type": "markdown",
   "metadata": {},
   "source": [
    "set operations"
   ]
  },
  {
   "cell_type": "code",
   "execution_count": 26,
   "metadata": {},
   "outputs": [
    {
     "name": "stdout",
     "output_type": "stream",
     "text": [
      "{1, 'D', 'B', 'C', 'b', 45, 'E', 'A', 'a'}\n",
      "{'C'}\n",
      "{'D', 'A', 'B', 'E'}\n",
      "{1, 'D', 'b', 'B', 45, 'E', 'A', 'a'}\n",
      "False\n",
      "False\n",
      "False\n"
     ]
    }
   ],
   "source": [
    "set1={'A','B','C','D','E'}\n",
    "set2={'a','b','C',1,45}\n",
    "print(set1.union(set2))\n",
    "print(set1.intersection(set2))\n",
    "print(set1.difference(set2))\n",
    "print(set1.symmetric_difference(set2))\n",
    "print(set1.issubset(set2))\n",
    "print(set1.issuperset(set2))\n",
    "print(set1.isdisjoint(set2)) #no common element in set1 and set2"
   ]
  },
  {
   "cell_type": "markdown",
   "metadata": {},
   "source": [
    "Program Statement: write a python script to find a unique element from the list."
   ]
  },
  {
   "cell_type": "code",
   "execution_count": 29,
   "metadata": {},
   "outputs": [
    {
     "name": "stdout",
     "output_type": "stream",
     "text": [
      "7\n",
      "{0, 1, 34, 67, 45, 54, 23}\n"
     ]
    }
   ],
   "source": [
    "list1=[0,1,34,23,34,45,67,54,34]\n",
    "set3=set(list1)\n",
    "print(len(set3))\n",
    "print(set3)"
   ]
  }
 ],
 "metadata": {
  "kernelspec": {
   "display_name": "Python 3",
   "language": "python",
   "name": "python3"
  },
  "language_info": {
   "codemirror_mode": {
    "name": "ipython",
    "version": 3
   },
   "file_extension": ".py",
   "mimetype": "text/x-python",
   "name": "python",
   "nbconvert_exporter": "python",
   "pygments_lexer": "ipython3",
   "version": "3.11.8"
  }
 },
 "nbformat": 4,
 "nbformat_minor": 2
}
