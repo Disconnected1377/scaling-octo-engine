{
 "cells": [
  {
   "cell_type": "markdown",
   "metadata": {},
   "source": [
    "1. If input = 5       \n",
    "print      \n",
    "A A A A A      \n",
    "B B B B      \n",
    "C C C       \n",
    "D D       \n",
    "E"
   ]
  },
  {
   "cell_type": "code",
   "execution_count": 66,
   "metadata": {},
   "outputs": [
    {
     "name": "stdout",
     "output_type": "stream",
     "text": [
      "A A A A A \n",
      "B B B B \n",
      "C C C \n",
      "D D \n",
      "E \n"
     ]
    }
   ],
   "source": [
    "rows=int(input(\"enter the row\"))\n",
    "start_char = ord('A')\n",
    "for i in range(rows):\n",
    "    print((chr(start_char + i) + ' ') * (rows - i))"
   ]
  },
  {
   "cell_type": "markdown",
   "metadata": {},
   "source": [
    "If input = 5     \n",
    "print      \n",
    "1      \n",
    "2 3        \n",
    "4 5 6             \n",
    "7 8 9 10        \n",
    "11 12 13 14 15     "
   ]
  },
  {
   "cell_type": "code",
   "execution_count": 55,
   "metadata": {},
   "outputs": [
    {
     "name": "stdout",
     "output_type": "stream",
     "text": [
      "1 \n",
      "2 3 \n",
      "4 5 6 \n",
      "7 8 9 10 \n",
      "11 12 13 14 15 \n",
      "16 17 18 19 20 21 \n",
      "22 23 24 25 26 27 28 \n"
     ]
    }
   ],
   "source": [
    "current_num = 1\n",
    "r = int (input(\"Enter the numbers: \"))\n",
    "s = 2\n",
    "for i in range(r):\n",
    "    for column in range(1, s):        \n",
    "        print(current_num, end=' ')\n",
    "        current_num += 1    \n",
    "    print(\"\")\n",
    "    s += 1"
   ]
  },
  {
   "cell_type": "markdown",
   "metadata": {},
   "source": [
    "If input = 5      \n",
    "print       \n",
    "* - * - *     \n",
    "- * - * -     \n",
    "* - * - *     \n",
    "- * - * -    \n",
    "* - * - *     "
   ]
  },
  {
   "cell_type": "code",
   "execution_count": 10,
   "metadata": {},
   "outputs": [
    {
     "name": "stdout",
     "output_type": "stream",
     "text": [
      " *  -  *  -  * \n",
      " -  *  -  *  - \n",
      " *  -  *  -  * \n",
      " -  *  -  *  - \n",
      " *  -  *  -  * \n"
     ]
    }
   ],
   "source": [
    "n=int (input(\"Enter the Number: \"))\n",
    "for i in range(n):\n",
    "    if i%2==0:\n",
    "        print(\" * \"+ \" - \"+\" * \"+\" - \"+\" * \")\n",
    "    else:\n",
    "        print(\" - \"+\" * \"+\" - \"+\" * \"+\" - \")\n"
   ]
  },
  {
   "cell_type": "markdown",
   "metadata": {},
   "source": [
    " If input = 5 \n",
    "print \n",
    "    *\n",
    "   * *\n",
    "  * * *\n",
    " * * * *\n",
    "* * * * *"
   ]
  },
  {
   "cell_type": "code",
   "execution_count": 18,
   "metadata": {},
   "outputs": [
    {
     "name": "stdout",
     "output_type": "stream",
     "text": [
      "    * \n",
      "   * * \n",
      "  * * * \n",
      " * * * * \n",
      "* * * * * \n"
     ]
    }
   ],
   "source": [
    "n= int(input())\n",
    "for i in range(0,n):\n",
    "    print(' '*(n-i-1)+'* '*(i+1))"
   ]
  },
  {
   "cell_type": "markdown",
   "metadata": {},
   "source": [
    "If input = 5 \n",
    "print \n",
    "* * * * *\n",
    "           *\n",
    "* * * * *\n",
    "           *\n",
    "* * * * * "
   ]
  },
  {
   "cell_type": "code",
   "execution_count": 23,
   "metadata": {},
   "outputs": [
    {
     "name": "stdout",
     "output_type": "stream",
     "text": [
      "* * * * * \n",
      "        *\n",
      "* * * * * \n",
      "        *\n",
      "* * * * * \n"
     ]
    }
   ],
   "source": [
    "n=int (input(\"Enter the number: \"))\n",
    "for i in range(n):\n",
    "    if i%2==0:\n",
    "        print(\"* \"*n)\n",
    "    else:\n",
    "        print(\"  \"*(n-1)+\"*\")"
   ]
  },
  {
   "cell_type": "markdown",
   "metadata": {},
   "source": [
    "If input = 5     \n",
    "print    \n",
    "1   \n",
    "1 2   \n",
    "1 2 3   \n",
    "1 2 3 4   \n",
    "1 2 3 4 5    "
   ]
  },
  {
   "cell_type": "code",
   "execution_count": 28,
   "metadata": {},
   "outputs": [
    {
     "name": "stdout",
     "output_type": "stream",
     "text": [
      "1 \n",
      "1 2 \n",
      "1 2 3 \n",
      "1 2 3 4 \n",
      "1 2 3 4 5 \n"
     ]
    }
   ],
   "source": [
    "n=int (input(\"Enter the number:\"))\n",
    "for i in range(1,n+1):\n",
    "    for j in range(1,i+1):\n",
    "        print(j, end=' ')\n",
    "    print()"
   ]
  },
  {
   "cell_type": "markdown",
   "metadata": {},
   "source": [
    " If input = 5 \n",
    "print \n",
    "*\n",
    "* *\n",
    "*   *\n",
    "*     *\n",
    "* * * * *"
   ]
  },
  {
   "cell_type": "code",
   "execution_count": 49,
   "metadata": {},
   "outputs": [
    {
     "name": "stdout",
     "output_type": "stream",
     "text": [
      "* \n",
      "*   *\n",
      "*    *\n",
      "*     *\n",
      "* * * * * \n"
     ]
    }
   ],
   "source": [
    "n= int (input(\"enter the number: \"))\n",
    "for i in range(1,n+1):\n",
    "    if i==1 or i==n:\n",
    "        print(\"* \"*i)\n",
    "    else:\n",
    "        print(\"* \"+\" \"*(i)+\"*\")"
   ]
  }
 ],
 "metadata": {
  "kernelspec": {
   "display_name": "Python 3",
   "language": "python",
   "name": "python3"
  },
  "language_info": {
   "codemirror_mode": {
    "name": "ipython",
    "version": 3
   },
   "file_extension": ".py",
   "mimetype": "text/x-python",
   "name": "python",
   "nbconvert_exporter": "python",
   "pygments_lexer": "ipython3",
   "version": "3.11.8"
  }
 },
 "nbformat": 4,
 "nbformat_minor": 2
}
