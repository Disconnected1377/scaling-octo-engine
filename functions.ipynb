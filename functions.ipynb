{
 "cells": [
  {
   "cell_type": "code",
   "execution_count": 2,
   "metadata": {},
   "outputs": [],
   "source": [
    "def my_function():\n",
    "    print(\"Hello from finction\")"
   ]
  },
  {
   "cell_type": "code",
   "execution_count": 3,
   "metadata": {},
   "outputs": [
    {
     "name": "stdout",
     "output_type": "stream",
     "text": [
      "Hello from finction\n"
     ]
    }
   ],
   "source": [
    "my_function()"
   ]
  },
  {
   "cell_type": "markdown",
   "metadata": {},
   "source": [
    "4 type of functions \n",
    "1. with return value and with arguments \n",
    "2. with return value and without arguments \n",
    "3. without return value and with arguments \n",
    "4. without return value and without arguments"
   ]
  },
  {
   "cell_type": "code",
   "execution_count": 4,
   "metadata": {},
   "outputs": [
    {
     "name": "stdout",
     "output_type": "stream",
     "text": [
      "Email Refsens\n"
     ]
    }
   ],
   "source": [
    "# functions with no return value and with arguments \n",
    "def my_function_3(fname,lname):  # positional arguments\n",
    "    print(fname + \" \" + lname)\n",
    "\n",
    "my_function_3(\"Email\",\"Refsens\")"
   ]
  },
  {
   "cell_type": "code",
   "execution_count": 5,
   "metadata": {},
   "outputs": [
    {
     "name": "stdout",
     "output_type": "stream",
     "text": [
      "laptop\n",
      "mouse\n",
      "keyboared\n",
      "respberry pi\n",
      "headphone\n",
      "webcam\n",
      "mobile phone\n"
     ]
    }
   ],
   "source": [
    "# Arbitrary arguments\n",
    "def my_function_3(*device):   # argument is tupple\n",
    "    for i in device:\n",
    "        print(i)\n",
    "\n",
    "my_function_3(\"laptop\",\"mouse\",\"keyboared\",\"respberry pi\",\"headphone\",\"webcam\",\"mobile phone\")"
   ]
  },
  {
   "cell_type": "markdown",
   "metadata": {},
   "source": [
    "Keyword arguments\n",
    "you can also send arguments with the key =value syntax. this way the order of the argumets does not matter."
   ]
  },
  {
   "cell_type": "code",
   "execution_count": 6,
   "metadata": {},
   "outputs": [
    {
     "name": "stdout",
     "output_type": "stream",
     "text": [
      "device2 is: mouse\n"
     ]
    }
   ],
   "source": [
    "def my_function_3(device1,device3,device5,device4,device6,device2,device7):\n",
    "    print(\"device2 is: \"+ device2)\n",
    "\n",
    "my_function_3(device1=\"laptop\",device2=\"mouse\",device3=\"keyboared\",device4=\"respberry pi\",device5=\"headphone\",device6=\"webcam\",device7=\"mobile phone\")"
   ]
  },
  {
   "cell_type": "markdown",
   "metadata": {},
   "source": [
    "Defult argument: argument is provided at the time of function creation, when we call the function without arguments, it uses the default value."
   ]
  },
  {
   "cell_type": "code",
   "execution_count": 7,
   "metadata": {},
   "outputs": [
    {
     "name": "stdout",
     "output_type": "stream",
     "text": [
      "i am from Sweden\n",
      "i am from Brazil\n",
      "i am from Japan\n",
      "i am from india\n"
     ]
    }
   ],
   "source": [
    "# defult argument\n",
    "def my_function_3(country=\"india\"):\n",
    "    print(\"i am from \"+ country)\n",
    "\n",
    "my_function_3(\"Sweden\")\n",
    "my_function_3(\"Brazil\")\n",
    "my_function_3(\"Japan\")\n",
    "my_function_3()  # function call without argument"
   ]
  },
  {
   "cell_type": "code",
   "execution_count": 8,
   "metadata": {},
   "outputs": [
    {
     "name": "stdout",
     "output_type": "stream",
     "text": [
      "laptop\n",
      "mouse\n",
      "keyboared\n",
      "respberry pi\n",
      "headphone\n",
      "webcam\n",
      "mobile phone\n"
     ]
    }
   ],
   "source": [
    "# passing the list as argument to the function\n",
    "def my_function_3(devices):\n",
    "    for x in devices:\n",
    "        print(x)\n",
    "\n",
    "compo=[\"laptop\",\"mouse\",\"keyboared\",\"respberry pi\",\"headphone\",\"webcam\",\"mobile phone\"]\n",
    "my_function_3(compo)"
   ]
  },
  {
   "cell_type": "code",
   "execution_count": 11,
   "metadata": {},
   "outputs": [
    {
     "name": "stdout",
     "output_type": "stream",
     "text": [
      "343\n",
      "15\n",
      "25\n",
      "45\n"
     ]
    }
   ],
   "source": [
    "# function with return value and with arguments\n",
    "def my_function_1(x):\n",
    "    return 5*x\n",
    "\n",
    "def cube(y):\n",
    "    return y*y*y\n",
    "\n",
    "print(cube(7))\n",
    "print(my_function_1(3))\n",
    "print(my_function_1(5))\n",
    "print(my_function_1(9))"
   ]
  },
  {
   "cell_type": "markdown",
   "metadata": {},
   "source": [
    "Recursive functions in Python  \n",
    "functions calling it self "
   ]
  },
  {
   "cell_type": "code",
   "execution_count": 14,
   "metadata": {},
   "outputs": [
    {
     "name": "stdout",
     "output_type": "stream",
     "text": [
      "120\n"
     ]
    },
    {
     "data": {
      "text/plain": [
       "3628800"
      ]
     },
     "execution_count": 14,
     "metadata": {},
     "output_type": "execute_result"
    }
   ],
   "source": [
    "# factorial\n",
    "def fecto(x):\n",
    "    m=1\n",
    "    if x==0 or x==1:\n",
    "        return 1\n",
    "    else:\n",
    "        m=x*fecto(x-1)\n",
    "    return m\n",
    "\n",
    "print(fecto(5))\n",
    "fecto(10)"
   ]
  },
  {
   "cell_type": "code",
   "execution_count": null,
   "metadata": {},
   "outputs": [],
   "source": [
    "def swap(x,y):\n",
    "    temp=x\n",
    "    x=y\n",
    "    y=temp\n",
    "\n",
    "x=5\n",
    "y=2\n",
    "swap(x,y)\n",
    "print(x)\n",
    "print(y)"
   ]
  },
  {
   "cell_type": "code",
   "execution_count": 16,
   "metadata": {},
   "outputs": [
    {
     "name": "stdout",
     "output_type": "stream",
     "text": [
      "0\n"
     ]
    }
   ],
   "source": [
    "def getting(l):\n",
    "    while True:\n",
    "        x= input(\"enter\")\n",
    "        if x==0 or x==1:\n",
    "            l.append(x)\n",
    "        elif x.lower()=='q':\n",
    "            break\n",
    "    return l\n",
    "\n",
    "l=[]\n",
    "l=getting(l)\n",
    "count=0\n",
    "for i in range(len(l)):\n",
    "    if l[i]==0:\n",
    "        if l[i]\n",
    "        count=count+1\n",
    "    else:\n",
    "        break\n",
    "\n",
    "print(count)"
   ]
  }
 ],
 "metadata": {
  "kernelspec": {
   "display_name": "Python 3",
   "language": "python",
   "name": "python3"
  },
  "language_info": {
   "codemirror_mode": {
    "name": "ipython",
    "version": 3
   },
   "file_extension": ".py",
   "mimetype": "text/x-python",
   "name": "python",
   "nbconvert_exporter": "python",
   "pygments_lexer": "ipython3",
   "version": "3.11.8"
  }
 },
 "nbformat": 4,
 "nbformat_minor": 2
}
