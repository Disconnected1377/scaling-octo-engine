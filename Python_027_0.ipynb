{
 "cells": [
  {
   "cell_type": "markdown",
   "metadata": {},
   "source": [
    "Programe Statement: Imagine you are developing a finance application that calculates compound interest for investments. Your task is to create a Python program that takes user input for the principal amount, interest rate, and period and then computes the compound interest using the provided numeric data types. Ensure the program handles various scenarios such as different interest rates and periods accurately."
   ]
  },
  {
   "cell_type": "code",
   "execution_count": 9,
   "metadata": {},
   "outputs": [
    {
     "name": "stdout",
     "output_type": "stream",
     "text": [
      "Compound Interest:  1276.2815625000003\n"
     ]
    }
   ],
   "source": [
    "p_amount=float (input(\"Enter Principal Amount: \"))\n",
    "i_rate= float (input(\"Enter Interest rate: \"))\n",
    "t_period= float (input(\"Enter the time in years: \"))\n",
    "c_interest= p_amount*((1+i_rate/100)**t_period)\n",
    "print(\"Compound Interest: \",c_interest)"
   ]
  },
  {
   "cell_type": "markdown",
   "metadata": {},
   "source": [
    "Programe Statement: You're tasked with building an email automation system for a marketing campaign. Your program needs to generate personalized email messages for customers based on their names and recent purchases. Develop a Python script that utilizes string operations to construct dynamic email templates by inserting customer names and product details into predefined message formats."
   ]
  },
  {
   "cell_type": "code",
   "execution_count": 8,
   "metadata": {},
   "outputs": [
    {
     "name": "stdout",
     "output_type": "stream",
     "text": [
      "Subject: Hey sakura, Remember ninja tool? We think you'll love it again!\n",
      "  Hi SAKURA, We noticed you previously purchased the NINJA TOOL from us on 12-30-2024. We hope you're enjoying it!\n",
      "  NINJA TOOL has been a popular choice among our customers, and many have come back for more.\n",
      "  We appreciate your business and hope you continue to enjoy NINJA TOOL! \n",
      "Thanks,\n",
      "The 0nc3_@g@!n Team\n"
     ]
    }
   ],
   "source": [
    "customer_name=str (input(\"Enter Customer Name: \"))\n",
    "recent_perchase=str (input(\"Enter name of product/recent perchase: \"))\n",
    "Date_of_perchase= str (input(\"Date of Purchase: [DD-MM-YYYY]\"))\n",
    "message_Subject=\"Subject: Hey {}, Remember {}? We think you'll love it again!\".format(customer_name,recent_perchase)\n",
    "message_body=\"  Hi {}, We noticed you previously purchased the {} from us on {}. We hope you're enjoying it!\\n  {} has been a popular choice among our customers, and many have come back for more.\\n  We appreciate your business and hope you continue to enjoy {}! \\nThanks,\\nThe 0nc3_@g@!n Team\".format(customer_name.upper(),recent_perchase.upper(),Date_of_perchase,recent_perchase.upper(),recent_perchase.upper())\n",
    "print(message_Subject)\n",
    "print(message_body)"
   ]
  },
  {
   "cell_type": "markdown",
   "metadata": {},
   "source": [
    "Program Statement:You are a cashier at a grocery store. Customers come to your counter with different items. Each item has a specific price (float). You need to add up all the prices (float) to get the total bill (float). Write a Python program to calculate the total bill."
   ]
  },
  {
   "cell_type": "code",
   "execution_count": 12,
   "metadata": {},
   "outputs": [
    {
     "name": "stdout",
     "output_type": "stream",
     "text": [
      "Total amount= 750.0\n"
     ]
    }
   ],
   "source": [
    "num_item= int (input(\"Enter the Number of Items: \"))\n",
    "total=0\n",
    "for i in range(num_item):\n",
    "    price=float (input(\"Enter the price of item: \"))\n",
    "    total=total+price\n",
    "print(\"Total amount=\", total)"
   ]
  }
 ],
 "metadata": {
  "kernelspec": {
   "display_name": "Python 3",
   "language": "python",
   "name": "python3"
  },
  "language_info": {
   "codemirror_mode": {
    "name": "ipython",
    "version": 3
   },
   "file_extension": ".py",
   "mimetype": "text/x-python",
   "name": "python",
   "nbconvert_exporter": "python",
   "pygments_lexer": "ipython3",
   "version": "3.11.7"
  }
 },
 "nbformat": 4,
 "nbformat_minor": 2
}
