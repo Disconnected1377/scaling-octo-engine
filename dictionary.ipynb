{
 "cells": [
  {
   "cell_type": "markdown",
   "metadata": {},
   "source": [
    "Dictionary in python     d={\"key\",\"value\"}, value type can be different within one dictionary, once it , the dictionary, is created the key can't be changed, but the value of that key can be changed."
   ]
  },
  {
   "cell_type": "code",
   "execution_count": 14,
   "metadata": {},
   "outputs": [
    {
     "name": "stdout",
     "output_type": "stream",
     "text": [
      "{'Sam': 200, 'Dhoni': 100}\n",
      "100\n",
      "{'Dhoni': 100}\n",
      "100\n",
      "Dhoni 100\n",
      "500\n",
      "Rahul 500\n",
      "<class 'dict'>\n",
      "Dhoni 100\n",
      "key found\n"
     ]
    }
   ],
   "source": [
    "score={\"Sam\":200,\"Dhoni\":100}\n",
    "print(score)\n",
    "print(score[\"Dhoni\"])\n",
    "del score[\"Sam\"]\n",
    "print(score)\n",
    "score[\"Rahul\"]=500\n",
    "for key in score:\n",
    "    print(score[key])\n",
    "    print(key,score[key])\n",
    "print(type(score))\n",
    "for key in score:\n",
    "    if key==\"Dhoni\":\n",
    "        print(key,score[key])\n",
    "# check Dhoni present as key in dict\n",
    "if \"Dhoni\" in score:\n",
    "    print(\"key found\")"
   ]
  },
  {
   "cell_type": "markdown",
   "metadata": {},
   "source": [
    "Nested Dictionary"
   ]
  },
  {
   "cell_type": "code",
   "execution_count": 28,
   "metadata": {},
   "outputs": [
    {
     "name": "stdout",
     "output_type": "stream",
     "text": [
      "{'yuvi': {'En_No': 1, 'Sub': 'Python'}, 'Dhoni': {'En_No': 2, 'Sub': 'Math'}, 'Visu': {'En_ro': 3, 'sub': 'Crypto'}}\n",
      "2\n",
      "{'En_No': 1, 'Sub': 'Python'}\n"
     ]
    }
   ],
   "source": [
    "d={\"yuvi\":{\"En_No\":1,\"Sub\":\"Python\"},\"Dhoni\":{\"En_No\":2,\"Sub\":\"Math\"},\"Visu\":{\"En_ro\":3,\"sub\":\"Crypto\"}}\n",
    "print(d)\n",
    "print(d[\"Dhoni\"][\"En_No\"])\n",
    "print(d[\"yuvi\"])"
   ]
  }
 ],
 "metadata": {
  "kernelspec": {
   "display_name": "Python 3",
   "language": "python",
   "name": "python3"
  },
  "language_info": {
   "codemirror_mode": {
    "name": "ipython",
    "version": 3
   },
   "file_extension": ".py",
   "mimetype": "text/x-python",
   "name": "python",
   "nbconvert_exporter": "python",
   "pygments_lexer": "ipython3",
   "version": "3.11.8"
  }
 },
 "nbformat": 4,
 "nbformat_minor": 2
}
