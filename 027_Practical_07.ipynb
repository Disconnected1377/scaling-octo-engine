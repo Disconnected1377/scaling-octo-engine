{
 "cells": [
  {
   "cell_type": "markdown",
   "metadata": {},
   "source": [
    "Online Shopping Cart: Imagine you’re developing an online shopping platform. Create a Python program that simulates a user’s shopping cart. \n",
    "\n",
    "    Allow the user to add product names to their cart. \n",
    "    Display the current items in the cart. \n",
    "    Allow the user to remove items from the cart. \n",
    "    Calculate and display the total number of items in the cart. "
   ]
  },
  {
   "cell_type": "code",
   "execution_count": 1,
   "metadata": {},
   "outputs": [
    {
     "name": "stdout",
     "output_type": "stream",
     "text": [
      "choose the operation\n",
      "[1] add product to cart\n",
      "[2] display the current item/the last item in cart\n",
      "[3] remove last elemtent from the cart\n",
      "[4] display product numbers and present products in cart\n",
      "[0] exit\n",
      "choose the operation\n",
      "[1] add product to cart\n",
      "[2] display the current item/the last item in cart\n",
      "[3] remove last elemtent from the cart\n",
      "[4] display product numbers and present products in cart\n",
      "[0] exit\n",
      "total number of items in cart:  1\n",
      "the product present in the cart, are: \n",
      "laptop\n",
      "choose the operation\n",
      "[1] add product to cart\n",
      "[2] display the current item/the last item in cart\n",
      "[3] remove last elemtent from the cart\n",
      "[4] display product numbers and present products in cart\n",
      "[0] exit\n",
      "Bye Bye...\n"
     ]
    }
   ],
   "source": [
    "cart=[]\n",
    "def add_cart(cart):\n",
    "    a=input(\"add product to the cart: \")\n",
    "    cart.append(a)\n",
    "    return cart\n",
    "\n",
    "def current_display(cart):\n",
    "    print(\"current item in the cart is: \",cart[-1])\n",
    "\n",
    "def remove_cart(cart):\n",
    "    print(\"item removed\",cart.pop())\n",
    "\n",
    "def total_display(cart):\n",
    "    print(\"total number of items in cart: \",len(cart))\n",
    "    print (\"the product present in the cart, are: \")\n",
    "    for i in cart:\n",
    "        print(i)\n",
    "\n",
    "def menu():\n",
    "    print(\"choose the operation\")\n",
    "    print(\"[1] add product to cart\")\n",
    "    print(\"[2] display the current item/the last item in cart\")\n",
    "    print(\"[3] remove last elemtent from the cart\")\n",
    "    print(\"[4] display product numbers and present products in cart\")\n",
    "    print(\"[0] exit\")\n",
    "    b=int(input())\n",
    "    if b==1:\n",
    "        add_cart(cart)\n",
    "        menu()\n",
    "    elif b==2:\n",
    "        current_display(cart)\n",
    "        menu()\n",
    "    elif b==3:\n",
    "        remove_cart(cart)\n",
    "        menu()\n",
    "    elif b==4:\n",
    "        total_display(cart)\n",
    "        menu()\n",
    "    elif b==0:\n",
    "        print(\"Bye Bye...\")\n",
    "    else:\n",
    "        menu()\n",
    "    \n",
    "\n",
    "menu()"
   ]
  },
  {
   "cell_type": "markdown",
   "metadata": {},
   "source": [
    "Student Grade Analyzer:  As a teacher, you have a list of student scores (out of 100) for a test. \n",
    "\n",
    "    Write a Python program that calculates the average score and identifies students who scored above the average. "
   ]
  },
  {
   "cell_type": "code",
   "execution_count": 24,
   "metadata": {},
   "outputs": [
    {
     "name": "stdout",
     "output_type": "stream",
     "text": [
      "The average score is 84.0\n",
      "Students, scored above average: \n",
      "aaa\n",
      "cc\n",
      "dd\n",
      "ee\n"
     ]
    }
   ],
   "source": [
    "def avg(l):\n",
    "    s=0\n",
    "    for i in l:\n",
    "        s=s+i\n",
    "    return s/len(l)\n",
    "\n",
    "l=[]\n",
    "d={}\n",
    "while True:\n",
    "    k=input(\"student name (q for quiet input)\")\n",
    "    if k.lower()=='q':\n",
    "        break\n",
    "    else:\n",
    "        v=int(input(\"score of the student\"))\n",
    "        l.append(v)\n",
    "        d.update({k:v})\n",
    "\n",
    "a=avg(l)\n",
    "print(\"The average score is\",a)\n",
    "print(\"Students, scored above average: \")\n",
    "for k in d:\n",
    "    if d[k]>a:\n",
    "        print(k)\n",
    "\n"
   ]
  },
  {
   "cell_type": "markdown",
   "metadata": {},
   "source": [
    " Temperature Converter:  You’re building a weather app. Create a Python program that converts temperatures between Celsius and Fahrenheit.  \n",
    "\n",
    "    Prompt the user to enter a temperature value and a unit (C or F).  \n",
    "    Calculate and display the converted temperature.\n",
    "    Example: If the user enters 32 C, the program should output 89.6 F.  "
   ]
  },
  {
   "cell_type": "code",
   "execution_count": null,
   "metadata": {},
   "outputs": [],
   "source": []
  }
 ],
 "metadata": {
  "kernelspec": {
   "display_name": "Python 3",
   "language": "python",
   "name": "python3"
  },
  "language_info": {
   "codemirror_mode": {
    "name": "ipython",
    "version": 3
   },
   "file_extension": ".py",
   "mimetype": "text/x-python",
   "name": "python",
   "nbconvert_exporter": "python",
   "pygments_lexer": "ipython3",
   "version": "3.11.8"
  }
 },
 "nbformat": 4,
 "nbformat_minor": 2
}
