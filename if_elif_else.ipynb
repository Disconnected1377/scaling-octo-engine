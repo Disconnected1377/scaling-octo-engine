{
 "cells": [
  {
   "cell_type": "markdown",
   "metadata": {},
   "source": [
    "Conditional blocks using if,else and elif in python.             \n",
    "you may have multiple statements with in the if block, as long a they share the same indentation level."
   ]
  },
  {
   "cell_type": "code",
   "execution_count": 4,
   "metadata": {},
   "outputs": [
    {
     "name": "stdout",
     "output_type": "stream",
     "text": [
      "Price*quantity is less than 500\n",
      "prince:  50\n",
      "quantity: 5\n"
     ]
    }
   ],
   "source": [
    "price=50\n",
    "quantity=5\n",
    "if price*quantity<500:\n",
    "    print(\"Price*quantity is less than 500\")\n",
    "    print(\"prince: \",price)\n",
    "    print(\"quantity:\", quantity)\n"
   ]
  },
  {
   "cell_type": "code",
   "execution_count": 5,
   "metadata": {},
   "outputs": [
    {
     "name": "stdout",
     "output_type": "stream",
     "text": [
      "10 is greater than 5\n"
     ]
    }
   ],
   "source": [
    "x=10\n",
    "if x>5:\n",
    "    print(x,\"is greater than 5\")\n",
    "else:\n",
    "    print(x,\"is smaller than 5\")"
   ]
  },
  {
   "cell_type": "code",
   "execution_count": 6,
   "metadata": {},
   "outputs": [
    {
     "name": "stdout",
     "output_type": "stream",
     "text": [
      "price is less than 100\n"
     ]
    }
   ],
   "source": [
    "price=50\n",
    "if price>100:\n",
    "    print(\"price is greater than 100\")\n",
    "elif price==100:\n",
    "    print(\"price is 100\")\n",
    "else:\n",
    "    print(\"price is less than 100\")"
   ]
  },
  {
   "cell_type": "code",
   "execution_count": 7,
   "metadata": {},
   "outputs": [
    {
     "name": "stdout",
     "output_type": "stream",
     "text": [
      "its hot\n"
     ]
    }
   ],
   "source": [
    "#checking multiple conditions with elif\n",
    "temperature=25\n",
    "if temperature<0:\n",
    "    print(\"Freeze\")\n",
    "elif temperature>=0 and temperature<15:\n",
    "    print(\"Its cold\")\n",
    "elif temperature>=15 and temperature<25:\n",
    "    print(\"its warm\")\n",
    "else:\n",
    "    print(\"its hot\")"
   ]
  },
  {
   "cell_type": "code",
   "execution_count": null,
   "metadata": {},
   "outputs": [],
   "source": [
    "#nested if-else blocks\n",
    "num=15\n",
    "if num%2==0:\n",
    "    if num%3==0:\n",
    "        print(\"divisible by both\")\n",
    "    else:\n",
    "        print(\"divisible by 2 only\")\n",
    "else:\n",
    "    if num%3==0:\n",
    "        print(\"divisible by only 3\")\n",
    "    else:\n",
    "        print(\"not divisible by 2 and 3\")"
   ]
  },
  {
   "cell_type": "code",
   "execution_count": 8,
   "metadata": {},
   "outputs": [
    {
     "name": "stdout",
     "output_type": "stream",
     "text": [
      "the person is a adult\n"
     ]
    }
   ],
   "source": [
    "#using conditional expressions (ternary operator)\n",
    "age=20\n",
    "status=\"minor\" if age<18 else \"adult\"\n",
    "print(f\"the person is a {status}\")"
   ]
  },
  {
   "cell_type": "code",
   "execution_count": 9,
   "metadata": {},
   "outputs": [
    {
     "name": "stdout",
     "output_type": "stream",
     "text": [
      "both conditions are satishfied\n"
     ]
    }
   ],
   "source": [
    "#cobining conditions with logical operatiors\n",
    "x=10\n",
    "y=20\n",
    "if (x>5 and y>15) or (x<5 and y<15):\n",
    "    print(\"both conditions are satishfied\")\n",
    "else:\n",
    "    print(\"at least one condition is not shatishfied\")"
   ]
  },
  {
   "cell_type": "markdown",
   "metadata": {},
   "source": [
    "For loop in python"
   ]
  },
  {
   "cell_type": "code",
   "execution_count": 10,
   "metadata": {},
   "outputs": [
    {
     "name": "stdout",
     "output_type": "stream",
     "text": [
      "range(0, 6)\n",
      "0\n",
      "1\n",
      "2\n",
      "3\n",
      "4\n",
      "5\n"
     ]
    }
   ],
   "source": [
    "x=range(6)\n",
    "print(x)\n",
    "for i in x:\n",
    "    print(i)"
   ]
  },
  {
   "cell_type": "markdown",
   "metadata": {},
   "source": [
    "range() have 3 parameters:\n",
    "1 start parameter (optional)\n",
    "2 stop parameter (required)\n",
    "3 step parameter (optional)"
   ]
  },
  {
   "cell_type": "code",
   "execution_count": 11,
   "metadata": {},
   "outputs": [
    {
     "name": "stdout",
     "output_type": "stream",
     "text": [
      "3\n",
      "4\n",
      "5\n",
      "6\n",
      "7\n",
      "8\n",
      "9\n",
      "4\n",
      "6\n",
      "8\n",
      "10\n",
      "12\n",
      "14\n",
      "16\n",
      "18\n",
      "20\n",
      "22\n",
      "24\n",
      "26\n",
      "28\n"
     ]
    }
   ],
   "source": [
    "x=range(3,10)\n",
    "y=range(4,30,2)\n",
    "for i in x:\n",
    "    print(i)\n",
    "for i in y:\n",
    "    print(i)"
   ]
  },
  {
   "cell_type": "code",
   "execution_count": 12,
   "metadata": {},
   "outputs": [
    {
     "name": "stdout",
     "output_type": "stream",
     "text": [
      "apple\n",
      "banana\n",
      "cherry\n"
     ]
    }
   ],
   "source": [
    "# iterate over items in a list\n",
    "my_list=[\"apple\",\"banana\",\"cherry\"]\n",
    "for i in my_list:\n",
    "    print(i)"
   ]
  },
  {
   "cell_type": "code",
   "execution_count": 13,
   "metadata": {},
   "outputs": [
    {
     "name": "stdout",
     "output_type": "stream",
     "text": [
      "index:{index}, fruite:{my_list}\n",
      "index:{index}, fruite:{my_list}\n",
      "index:{index}, fruite:{my_list}\n"
     ]
    }
   ],
   "source": [
    "#looping with index and elements\n",
    "my_list=[\"apple\",\"banana\",\"cherry\"]\n",
    "for index,my_list in enumerate(my_list):\n",
    "    print(\"index:{index}, furit:{my_list}\")"
   ]
  },
  {
   "cell_type": "code",
   "execution_count": null,
   "metadata": {},
   "outputs": [],
   "source": [
    "# looping through a dictionary\n",
    "person={\"name\":\"jhon\",\"age\":30,\"city\":\"NewYork\"}\n"
   ]
  }
 ],
 "metadata": {
  "kernelspec": {
   "display_name": "Python 3",
   "language": "python",
   "name": "python3"
  },
  "language_info": {
   "codemirror_mode": {
    "name": "ipython",
    "version": 3
   },
   "file_extension": ".py",
   "mimetype": "text/x-python",
   "name": "python",
   "nbconvert_exporter": "python",
   "pygments_lexer": "ipython3",
   "version": "3.11.8"
  }
 },
 "nbformat": 4,
 "nbformat_minor": 2
}
