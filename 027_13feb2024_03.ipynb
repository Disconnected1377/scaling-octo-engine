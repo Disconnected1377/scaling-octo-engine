{
 "cells": [
  {
   "cell_type": "markdown",
   "metadata": {},
   "source": [
    "Programe Statement: You are a librarian and you have a list of books in your library. Each book is represented as a string. Your task is to write a Python program to find out how many books in the library have a titles longer than 10 characters."
   ]
  },
  {
   "cell_type": "code",
   "execution_count": 4,
   "metadata": {},
   "outputs": [
    {
     "name": "stdout",
     "output_type": "stream",
     "text": [
      "4\n"
     ]
    }
   ],
   "source": [
    "book_title=[\"Findamental of electornic\",\"Rootkits and bootkits\",\"Introduction to cryptography\",\"Guide to software developments\",\"atomic\"]\n",
    "count=0\n",
    "for i in book_title:\n",
    "    if len(i)>10:\n",
    "        count=count+1\n",
    "print(count)"
   ]
  },
  {
   "cell_type": "markdown",
   "metadata": {},
   "source": [
    "Program Statement: You are a sports coach and you have the heights of your players in centimeters. The heights are stored in a list. Your task is to write a Python program to calculate the average height and find out how many players are taller than the average."
   ]
  },
  {
   "cell_type": "code",
   "execution_count": 5,
   "metadata": {},
   "outputs": [
    {
     "name": "stdout",
     "output_type": "stream",
     "text": [
      "Average Height of players 162.85714285714286\n",
      "Number of player taller than 162.85714285714286 is 3\n"
     ]
    }
   ],
   "source": [
    "height=[150,152,156,160,167,166,189]\n",
    "sum=0\n",
    "for i in height:\n",
    "    sum=sum+i\n",
    "avg=sum/len(height)\n",
    "count=0\n",
    "for i in height:\n",
    "    if i>avg:\n",
    "        count=count+1\n",
    "print(\"Average Height of players\",avg)\n",
    "print(\"Number of player taller than\", avg,\"is\",count)"
   ]
  },
  {
   "cell_type": "markdown",
   "metadata": {},
   "source": [
    "Program Statement: You are a teacher and you have the scores of your students on a test. The scores are stored in a list. Your task is to write a Python program to find the median score. If the number of scores is even, the median is the average of the two middle scores."
   ]
  },
  {
   "cell_type": "code",
   "execution_count": 14,
   "metadata": {},
   "outputs": [
    {
     "name": "stdout",
     "output_type": "stream",
     "text": [
      "[300, 325, 350, 400, 481, 489]\n",
      "375.0\n"
     ]
    }
   ],
   "source": [
    "marks=[481,350,400,489,300,325]\n",
    "marks.sort()\n",
    "print(f\"{marks}\")\n",
    "if len(marks)%2==0:\n",
    "    median=(marks[len(marks)//2]+marks[(len(marks)//2)-1])/2\n",
    "else:\n",
    "    median=marks[len(marks)//2]\n",
    "print(median)"
   ]
  }
 ],
 "metadata": {
  "kernelspec": {
   "display_name": "Python 3",
   "language": "python",
   "name": "python3"
  },
  "language_info": {
   "codemirror_mode": {
    "name": "ipython",
    "version": 3
   },
   "file_extension": ".py",
   "mimetype": "text/x-python",
   "name": "python",
   "nbconvert_exporter": "python",
   "pygments_lexer": "ipython3",
   "version": "3.11.7"
  }
 },
 "nbformat": 4,
 "nbformat_minor": 2
}
