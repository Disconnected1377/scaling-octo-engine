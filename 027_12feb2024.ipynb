{
 "cells": [
  {
   "cell_type": "markdown",
   "metadata": {},
   "source": [
    "Program statement: write a python program to accept temp from user (the temp could be in C or F) you need to print weather the wather is frezzing,cold,modaret or hot. first convert C to F, if it is in F convert C. "
   ]
  },
  {
   "cell_type": "code",
   "execution_count": 11,
   "metadata": {},
   "outputs": [
    {
     "name": "stdout",
     "output_type": "stream",
     "text": [
      "Freezing weather\n"
     ]
    }
   ],
   "source": [
    "choice=int (input(\"[1] give input in Fahrenheit otherwise in Celsius\"))\n",
    "if choice ==1:\n",
    "    temp_f= float(input(\"Enter the temp value in Fahrenheit\"))\n",
    "    temp_c= 5*(temp_f-32)/9\n",
    "else :\n",
    "    temp_c= float(input(\"Enter the temp value in celsius\"))\n",
    "    temp_f=((9*temp_c)/5)+32\n",
    "if temp_c<=0 or temp_f<=32 :\n",
    "    print(\"Freezing weather\")\n",
    "elif temp_c>0 and temp_c<=10 or temp_f>32 and temp_f<=50 :\n",
    "    print(\"weather is chilly.\")\n",
    "elif temp_c>10 and temp_c<=20 or temp_f>50 and temp_f<=68 :\n",
    "    print(\"Modrate weather\")\n",
    "elif temp_c>20 and temp_c<=30 or temp_f>68 and temp_f<86 :\n",
    "    print(\"Summer Time\")\n",
    "elif temp_c>30 or temp_f>86 :\n",
    "    print(\"Hot day\")"
   ]
  },
  {
   "cell_type": "markdown",
   "metadata": {},
   "source": [
    "Programe Statement: creating a calander application, develop a python script that comes user to enter a year, determine weather the given year is leap year or not.\n",
    "1 if year is divisible by 4, is a leap year.\n",
    "2 if year is divisible by 100 is not a leap year untill it is divisible by 400."
   ]
  },
  {
   "cell_type": "code",
   "execution_count": 10,
   "metadata": {},
   "outputs": [
    {
     "name": "stdout",
     "output_type": "stream",
     "text": [
      "Leap year\n"
     ]
    }
   ],
   "source": [
    "year=int (input(\"Enter the Year\"))\n",
    "if year%100==0:\n",
    "    if year%400==0:\n",
    "       print(\"Leap Year\")\n",
    "    else:\n",
    "        print(\"Not a leap year\")\n",
    "elif year%4==0:\n",
    "    print(\"Leap year\")\n",
    "else:\n",
    "    print(\"Not a Leap Year\")"
   ]
  },
  {
   "cell_type": "markdown",
   "metadata": {},
   "source": [
    "You are working in a loan approval section of a bank, you need to approve or reject the user loan depending on following criteriya:\n",
    "age should be 18+\n",
    "credits score no less than 600\n",
    "annual income < 4 lakh\n",
    "display a msg that indicate apporval and rejection msg"
   ]
  },
  {
   "cell_type": "code",
   "execution_count": 13,
   "metadata": {},
   "outputs": [
    {
     "name": "stdout",
     "output_type": "stream",
     "text": [
      "Not elegible [under age]\n"
     ]
    }
   ],
   "source": [
    "age= int (input(\"Enter the age\"))\n",
    "credit= int(input(\"Enter the credits\"))\n",
    "income_a=int(input(\"Enter the annual income\"))\n",
    "if age<18:\n",
    "    print(\"Not elegible [under age]\")\n",
    "else:\n",
    "    if credit<600:\n",
    "        print(\"Not eligible [Less credits]\")\n",
    "    else:\n",
    "        if income_a<400000:\n",
    "            print(\"Not elegible [less annual income]\")\n",
    "        else:\n",
    "            print(\"Congratulations! you are approved for loan\")        "
   ]
  }
 ],
 "metadata": {
  "kernelspec": {
   "display_name": "Python 3",
   "language": "python",
   "name": "python3"
  },
  "language_info": {
   "codemirror_mode": {
    "name": "ipython",
    "version": 3
   },
   "file_extension": ".py",
   "mimetype": "text/x-python",
   "name": "python",
   "nbconvert_exporter": "python",
   "pygments_lexer": "ipython3",
   "version": "3.11.7"
  }
 },
 "nbformat": 4,
 "nbformat_minor": 2
}
